{
 "cells": [
  {
   "cell_type": "code",
   "execution_count": 19,
   "metadata": {},
   "outputs": [
    {
     "name": "stdout",
     "output_type": "stream",
     "text": [
      "Эпоха 0,Потери 288.8083019669832\n",
      "Эпоха 100,Потери 46.781047351381396\n",
      "Эпоха 200,Потери 16.442039759103913\n",
      "Эпоха 300,Потери 12.21960383265357\n",
      "Эпоха 400,Потери 11.52752662327109\n",
      "Эпоха 500,Потери 11.343977566392976\n",
      "Эпоха 600,Потери 11.252882327444924\n",
      "Эпоха 700,Потери 11.190976518642467\n",
      "Эпоха 800,Потери 11.14489842615451\n",
      "Эпоха 900,Потери 11.10955693423547\n",
      "Эпоха 1000,Потери 11.081979046317661\n",
      "Эпоха 1100,Потери 11.060148576213106\n",
      "Эпоха 1200,Потери 11.042637796219575\n",
      "Эпоха 1300,Потери 11.028417776757738\n",
      "Эпоха 1400,Потери 11.016738058625666\n",
      "Эпоха 1500,Потери 11.00704527022516\n",
      "Эпоха 1600,Потери 10.998926842129833\n",
      "Эпоха 1700,Потери 10.992071636885393\n",
      "Эпоха 1800,Потери 10.986242193173457\n",
      "Эпоха 1900,Потери 10.981255028992306\n",
      "[22.53280628 -0.87238699  0.9850421  -0.09445443  0.71502827 -1.93854807\n",
      "  2.73747484 -0.02853353 -3.05526428  2.04911519 -1.41216449 -2.02450752\n",
      "  0.85006211 -3.71534787]\n"
     ]
    }
   ],
   "source": [
    "from sklearn.datasets import load_boston\n",
    "import numpy as np\n",
    "bos = load_boston()\n",
    "x_b = bos.data\n",
    "y_b = bos.target\n",
    "\n",
    "mean = x_b.mean(axis=0)\n",
    "std = x_b.std(axis=0)\n",
    "x_b = (x_b - mean)/std\n",
    "\n",
    "def mse_f(x,y,w):\n",
    "    colvo = len(y)\n",
    "    y_pred = np.dot(x,w)\n",
    "    mse = np.sum((y_pred-y)**2/(2*colvo))\n",
    "    return(mse)\n",
    "def grad_f(x,y,w):\n",
    "    colvo = len(y)\n",
    "    y_pred = np.dot(x,w)\n",
    "    grad = np.dot(x.T,(y_pred-y)/colvo)\n",
    "    return(grad)\n",
    "def gd(x,y,w,lr,ep):\n",
    "    for i in range(ep):\n",
    "        grad = grad_f(x,y,w)\n",
    "        w = w-lr*grad\n",
    "        mse = mse_f(x,y,w)\n",
    "        if i % 100 == 0:\n",
    "            print(f'Эпоха {i},Потери {mse}')\n",
    "    return w\n",
    "\n",
    "\n",
    "\n",
    "x_b = np.hstack((np.ones((x_b.shape[0],1)),x_b))\n",
    "winit = np.zeros(x_b.shape[1])\n",
    "lr = 0.01\n",
    "ep = 2000\n",
    "w = gd(x_b,y_b,winit,lr,ep)\n",
    "print(w)"
   ]
  }
 ],
 "metadata": {
  "interpreter": {
   "hash": "05346d6bbe2e88a51f4b7e0dbd556963f2c3841cdc27cffc9e7c532b66f0a4b1"
  },
  "kernelspec": {
   "display_name": "Python 3.9.4 64-bit",
   "language": "python",
   "name": "python3"
  },
  "language_info": {
   "codemirror_mode": {
    "name": "ipython",
    "version": 3
   },
   "file_extension": ".py",
   "mimetype": "text/x-python",
   "name": "python",
   "nbconvert_exporter": "python",
   "pygments_lexer": "ipython3",
   "version": "3.9.4"
  },
  "orig_nbformat": 4
 },
 "nbformat": 4,
 "nbformat_minor": 2
}
