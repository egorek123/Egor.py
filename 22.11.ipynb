{
 "cells": [
  {
   "cell_type": "code",
   "execution_count": 11,
   "metadata": {},
   "outputs": [],
   "source": [
    "f = open(\"simbol.txt\",\"w\",encoding=\"utf-8\")\n",
    "f.write(chr(4096))\n",
    "f.close()"
   ]
  },
  {
   "cell_type": "code",
   "execution_count": 19,
   "metadata": {},
   "outputs": [],
   "source": [
    "f = open(\"simbol.txt\",\"w\",encoding=\"utf-8\")\n",
    "for i in range(0,40000):\n",
    "    f.write(chr(i))\n",
    "    f.write('\\n')\n",
    "f.close()\n"
   ]
  },
  {
   "cell_type": "code",
   "execution_count": 37,
   "metadata": {},
   "outputs": [
    {
     "name": "stdout",
     "output_type": "stream",
     "text": [
      "kj,s\n"
     ]
    }
   ],
   "source": [
    "t = open(\"r.txt\",\"r\",encoding=\"utf-8\")\n",
    "print(t.read(4))"
   ]
  }
 ],
 "metadata": {
  "interpreter": {
   "hash": "79a66020c778aa912c97182aacd7e48b856f7ffe32e4fbe6258212a1cf82384e"
  },
  "kernelspec": {
   "display_name": "Python 3.9.4 ('my_machine123': venv)",
   "language": "python",
   "name": "python3"
  },
  "language_info": {
   "codemirror_mode": {
    "name": "ipython",
    "version": 3
   },
   "file_extension": ".py",
   "mimetype": "text/x-python",
   "name": "python",
   "nbconvert_exporter": "python",
   "pygments_lexer": "ipython3",
   "version": "3.9.4"
  },
  "orig_nbformat": 4
 },
 "nbformat": 4,
 "nbformat_minor": 2
}
