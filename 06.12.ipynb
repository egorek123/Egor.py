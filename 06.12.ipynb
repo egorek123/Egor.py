{
 "cells": [
  {
   "cell_type": "code",
   "execution_count": 36,
   "metadata": {},
   "outputs": [
    {
     "name": "stdout",
     "output_type": "stream",
     "text": [
      "Line 1\n",
      "\n",
      "Line 2\n",
      "\n",
      "Line 3\n",
      "\n",
      "Line 4\n",
      "\n",
      "Line 4\n"
     ]
    }
   ],
   "source": [
    "file = open('testfile.txt','r',encoding='utf-8')\n",
    "lines = file.readlines()\n",
    "#for i in lines:\n",
    "    #print(i)\n",
    "file.close()\n",
    "new_lines = open('testfile.txt','a',encoding='utf-8')\n",
    "new_lines.write('\\nLine 4')\n",
    "file.close()\n",
    "e = open('testfile.txt','r',encoding='utf-8')\n",
    "for o in e:\n",
    "    print(o)\n",
    "\n",
    "\n"
   ]
  },
  {
   "cell_type": "code",
   "execution_count": 31,
   "metadata": {},
   "outputs": [],
   "source": [
    "file = open('worldwide internet prices in 2022 - IN 2022 (1).csv','r',encoding='utf-8')\n",
    "\n",
    "\n"
   ]
  },
  {
   "cell_type": "code",
   "execution_count": 37,
   "metadata": {},
   "outputs": [
    {
     "name": "stdout",
     "output_type": "stream",
     "text": [
      "  Класс   Ученики  Оценки1\n",
      "0    8А     Алёна        5\n",
      "1    8А  Влажимир        4\n",
      "2    8Б  Кристина        4\n",
      "3    8Б    Даниил        5\n",
      "  Класс   Ученики  Оценки2\n",
      "0    8А     Алёна        3\n",
      "1    8А  Влажимир        3\n",
      "2    8Б  Кристина        3\n",
      "3    8Б    Даниил        5\n",
      "  Класс1  Ученики1  Оценки1 Класс2  Ученики2  Оценки2\n",
      "0     8А     Алёна        5     8А     Алёна        3\n",
      "1     8А  Влажимир        4     8А  Влажимир        3\n",
      "2     8Б  Кристина        4     8Б  Кристина        3\n",
      "3     8Б    Даниил        5     8Б    Даниил        5\n",
      "  Класс   Ученики  Оценки1  Оценки2\n",
      "0    8А     Алёна      5.0      NaN\n",
      "1    8А  Влажимир      4.0      NaN\n",
      "2    8Б  Кристина      4.0      NaN\n",
      "3    8Б    Даниил      5.0      NaN\n",
      "0    8А     Алёна      NaN      3.0\n",
      "1    8А  Влажимир      NaN      3.0\n",
      "2    8Б  Кристина      NaN      3.0\n",
      "3    8Б    Даниил      NaN      5.0\n"
     ]
    }
   ],
   "source": [
    "import pandas as pd\n",
    "\n",
    "df1 = pd.DataFrame({'Класс':['8А','8А','8Б','8Б'],\n",
    "    'Ученики':['Алёна','Влажимир','Кристина','Даниил'],\n",
    "    'Оценки1':[5,4,4,5]})\n",
    "df2 = pd.DataFrame({'Класс':['8А','8А','8Б','8Б'],\n",
    "    'Ученики':['Алёна','Влажимир','Кристина','Даниил'],\n",
    "    'Оценки2':[3,3,3,5]})\n",
    "print(df1)\n",
    "print(df2)\n",
    "\n",
    "df = pd.concat([df1,df2])\n",
    "print(df1.join(df2,lsuffix='1',rsuffix='2'))\n",
    "print(df)\n"
   ]
  },
  {
   "cell_type": "code",
   "execution_count": 38,
   "metadata": {},
   "outputs": [
    {
     "name": "stdout",
     "output_type": "stream",
     "text": [
      "  Класс   Ученики  Оценки1  Оценки2\n",
      "0    8А     Алёна      5.0      3.5\n",
      "1    8А  Влажимир      4.0      3.5\n",
      "2    8Б  Кристина      4.0      3.5\n",
      "3    8Б    Даниил      5.0      3.5\n",
      "0    8А     Алёна      4.5      3.0\n",
      "1    8А  Влажимир      4.5      3.0\n",
      "2    8Б  Кристина      4.5      3.0\n",
      "3    8Б    Даниил      4.5      5.0\n"
     ]
    }
   ],
   "source": [
    "df[\"Оценки1\"] = df[\"Оценки1\"].fillna(df['Оценки1'].mean())\n",
    "df['Оценки2'] = df['Оценки2'].fillna(df['Оценки2'].mean())\n",
    "df = df.fillna(10)\n",
    "print(df)\n"
   ]
  }
 ],
 "metadata": {
  "interpreter": {
   "hash": "05346d6bbe2e88a51f4b7e0dbd556963f2c3841cdc27cffc9e7c532b66f0a4b1"
  },
  "kernelspec": {
   "display_name": "Python 3.9.4 64-bit",
   "language": "python",
   "name": "python3"
  },
  "language_info": {
   "codemirror_mode": {
    "name": "ipython",
    "version": 3
   },
   "file_extension": ".py",
   "mimetype": "text/x-python",
   "name": "python",
   "nbconvert_exporter": "python",
   "pygments_lexer": "ipython3",
   "version": "3.9.4"
  },
  "orig_nbformat": 4
 },
 "nbformat": 4,
 "nbformat_minor": 2
}
