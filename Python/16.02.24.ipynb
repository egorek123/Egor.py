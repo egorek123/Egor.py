{
 "cells": [
  {
   "cell_type": "code",
   "execution_count": 92,
   "metadata": {},
   "outputs": [
    {
     "name": "stdout",
     "output_type": "stream",
     "text": [
      "[6.320e-03 1.800e+01 2.310e+00 0.000e+00 5.380e-01 6.575e+00 6.520e+01\n",
      " 4.090e+00 1.000e+00 2.960e+02 1.530e+01 3.969e+02 4.980e+00]\n"
     ]
    }
   ],
   "source": [
    "from sklearn.datasets import load_boston\n",
    "import numpy as np\n",
    "\n",
    "boston = load_boston()\n",
    "\n",
    "x_boston = boston.data\n",
    "y_boston = boston.target\n",
    "print(x_boston[0])\n"
   ]
  },
  {
   "cell_type": "code",
   "execution_count": 93,
   "metadata": {},
   "outputs": [],
   "source": [
    "mean = x_boston.mean(axis=0)\n",
    "std = x_boston.std(axis=0)\n",
    "\n",
    "x_boston = (x_boston-mean)/std"
   ]
  },
  {
   "cell_type": "code",
   "execution_count": 94,
   "metadata": {},
   "outputs": [],
   "source": [
    "#error function\n",
    "def cost_func(x,y,w):\n",
    "    n_count = len(y)\n",
    "    y_pred = np.dot(x,w)\n",
    "    mse = np.sum((y_pred-y)**2/(2*n_count))\n",
    "    return mse\n",
    "\n",
    "#gradient function\n",
    "def gradient(x,y,w):\n",
    "    n_count = len(y)\n",
    "    y_pred = np.dot(x,w)\n",
    "    grad = np.dot(x.T, (y_pred-y)/n_count)\n",
    "    return grad\n",
    "\n",
    "def gradient_descent(x,y,w_init,lr,epochs):\n",
    "    w = w_init\n",
    "    for i in range(epochs):\n",
    "        grad = gradient(x,y,w)\n",
    "        w = w - lr*grad\n",
    "        mse = cost_func(x,y,w)\n",
    "        if i % 100 == 0:\n",
    "            print(f\"Эпоха {i}: Ошибка={mse}\")\n",
    "    return w"
   ]
  },
  {
   "cell_type": "code",
   "execution_count": 95,
   "metadata": {},
   "outputs": [
    {
     "name": "stdout",
     "output_type": "stream",
     "text": [
      "[1.0, -0.4197819386460084, 0.2848298609673567, -1.2879094989577484, -0.2725985670699254, -0.14421743255530006, 0.4136718893017465, -0.1200134161980508, 0.1402136034929299, -0.9828428567665046, -0.6666082090210975, -1.4590003802772087, 0.44105193260704206, -1.075562304567866]\n",
      "Эпоха 0: Ошибка=288.8083019669832\n",
      "Эпоха 100: Ошибка=46.781047351381396\n",
      "Эпоха 200: Ошибка=16.442039759103913\n",
      "Эпоха 300: Ошибка=12.21960383265357\n",
      "Эпоха 400: Ошибка=11.52752662327109\n",
      "Эпоха 500: Ошибка=11.343977566392976\n",
      "Эпоха 600: Ошибка=11.252882327444924\n",
      "Эпоха 700: Ошибка=11.190976518642467\n",
      "Эпоха 800: Ошибка=11.14489842615451\n",
      "Эпоха 900: Ошибка=11.10955693423547\n",
      "wesa [22.53183355 -0.78102837  0.81194215 -0.27316748  0.74256629 -1.57697862\n",
      "  2.88943522 -0.10349181 -2.74240875  1.45982586 -0.88309816 -1.95217556\n",
      "  0.87224133 -3.64278025]\n"
     ]
    }
   ],
   "source": [
    "x_boston = np.hstack((np.ones((x_boston.shape[0], 1)), x_boston))\n",
    "\n",
    "w_init = np.zeros(x_boston.shape[1])\n",
    "print(list(x_boston[0]))\n",
    "lr = 0.01\n",
    "epochs = 1000\n",
    "\n",
    "\n",
    "w = gradient_descent(x_boston, y_boston, w_init, lr, epochs)\n",
    "print('wesa', w)"
   ]
  },
  {
   "cell_type": "code",
   "execution_count": 96,
   "metadata": {},
   "outputs": [
    {
     "name": "stdout",
     "output_type": "stream",
     "text": [
      "30.595823147465435\n",
      "24.0\n"
     ]
    }
   ],
   "source": [
    "data_x = x_boston[0]\n",
    "y  = np.dot(data_x, w)\n",
    "print(y)\n",
    "print(y_boston[0])"
   ]
  },
  {
   "cell_type": "code",
   "execution_count": 100,
   "metadata": {},
   "outputs": [
    {
     "data": {
      "image/png": "[encoded data removed]",
      "text/plain": [
       "<Figure size 640x480 with 1 Axes>"
      ]
     },
     "metadata": {},
     "output_type": "display_data"
    }
   ],
   "source": [
    "import matplotlib.pyplot as plt\n",
    "\n",
    "x = []\n",
    "y_1 = y_boston\n",
    "y_2 = []\n",
    "for i in range(len(x_boston)):\n",
    "    y_2.append(np.dot(x_boston[i], w))\n",
    "\n",
    "for i in range(len(x_boston)):\n",
    "    x.append(x_boston[i][-10])\n",
    "\n",
    "plt.scatter(x,y_1)\n",
    "plt.scatter(x,y_2)\n",
    "\n",
    "plt.show()"
   ]
  }
 ],
 "metadata": {
  "interpreter": {
   "hash": "085241b03c8467ac523dc199e9d66dc1a0e203c296f520d164e80b7368218161"
  },
  "kernelspec": {
   "display_name": "Python 3.9.4 64-bit",
   "language": "python",
   "name": "python3"
  },
  "language_info": {
   "codemirror_mode": {
    "name": "ipython",
    "version": 3
   },
   "file_extension": ".py",
   "mimetype": "text/x-python",
   "name": "python",
   "nbconvert_exporter": "python",
   "pygments_lexer": "ipython3",
   "version": "3.9.4"
  },
  "orig_nbformat": 4
 },
 "nbformat": 4,
 "nbformat_minor": 2
}
