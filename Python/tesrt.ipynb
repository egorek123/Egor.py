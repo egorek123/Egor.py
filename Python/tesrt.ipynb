{
 "cells": [
  {
   "cell_type": "code",
   "execution_count": null,
   "metadata": {},
   "outputs": [
    {
     "name": "stdout",
     "output_type": "stream",
     "text": [
      "hello world\n",
      "true\n"
     ]
    }
   ],
   "source": [
    "print('hello world')\n",
    "if True:\n",
    "    print('true')\n",
    "if False:\n",
    "    print('true')\n"
   ]
  },
  {
   "cell_type": "code",
   "execution_count": null,
   "metadata": {},
   "outputs": [
    {
     "name": "stdout",
     "output_type": "stream",
     "text": [
      "a>b\n"
     ]
    }
   ],
   "source": [
    "a = 9\n",
    "b = 7\n",
    "if a<b:\n",
    "    print('a<b')\n",
    "else:\n",
    "    print(\"a>b\")"
   ]
  },
  {
   "cell_type": "code",
   "execution_count": null,
   "metadata": {},
   "outputs": [
    {
     "name": "stdout",
     "output_type": "stream",
     "text": [
      "2\n"
     ]
    }
   ],
   "source": [
    "a = 5\n",
    "b = 2 \n",
    "c =  3\n",
    "\n",
    "if a<b :\n",
    "        print('1')\n",
    "elif b<c:\n",
    "        print('2')\n",
    "elif b<c:\n",
    "        print('2')\n",
    "else : print('3')\n"
   ]
  },
  {
   "cell_type": "code",
   "execution_count": null,
   "metadata": {},
   "outputs": [
    {
     "name": "stdout",
     "output_type": "stream",
     "text": [
      "md\n",
      "or\n"
     ]
    }
   ],
   "source": [
    "if not True:\n",
    "    print('ddd')\n",
    "if not False:\n",
    "    print('md')\n",
    "if True or False:\n",
    "    print('or')\n",
    "if True and False:\n",
    "    print('and')"
   ]
  },
  {
   "cell_type": "code",
   "execution_count": null,
   "metadata": {},
   "outputs": [
    {
     "ename": "ValueError",
     "evalue": "invalid literal for int() with base 10: 'banana'",
     "output_type": "error",
     "traceback": [
      "\u001b[1;31m---------------------------------------------------------------------------\u001b[0m",
      "\u001b[1;31mValueError\u001b[0m                                Traceback (most recent call last)",
      "Cell \u001b[1;32mIn[91], line 4\u001b[0m\n\u001b[0;32m      2\u001b[0m right \u001b[38;5;241m=\u001b[39m \u001b[38;5;241m15\u001b[39m\n\u001b[0;32m      3\u001b[0m x \u001b[38;5;241m=\u001b[39m \u001b[38;5;28minput\u001b[39m(\u001b[38;5;124m'\u001b[39m\u001b[38;5;124mвведи число\u001b[39m\u001b[38;5;124m'\u001b[39m)\n\u001b[1;32m----> 4\u001b[0m x \u001b[38;5;241m=\u001b[39m \u001b[38;5;28;43mint\u001b[39;49m\u001b[43m(\u001b[49m\u001b[43mx\u001b[49m\u001b[43m)\u001b[49m\n\u001b[0;32m      5\u001b[0m \u001b[38;5;28;01mif\u001b[39;00m x \u001b[38;5;241m>\u001b[39m\u001b[38;5;241m=\u001b[39m left \u001b[38;5;129;01mand\u001b[39;00m x \u001b[38;5;241m<\u001b[39m\u001b[38;5;241m=\u001b[39m right:\n\u001b[0;32m      6\u001b[0m     \u001b[38;5;28mprint\u001b[39m(\u001b[38;5;124m'\u001b[39m\u001b[38;5;124mчисло не вышло за границу\u001b[39m\u001b[38;5;124m'\u001b[39m)\n",
      "\u001b[1;31mValueError\u001b[0m: invalid literal for int() with base 10: 'banana'"
     ]
    }
   ],
   "source": [
    "left = 1\n",
    "right = 15\n",
    "x = input('введи число')\n",
    "x = int(x)\n",
    "if x >= left and x <= right:\n",
    "    print('число не вышло за границу')\n",
    "else:\n",
    "    print('число вышло за границу')"
   ]
  },
  {
   "cell_type": "code",
   "execution_count": null,
   "metadata": {},
   "outputs": [
    {
     "name": "stdout",
     "output_type": "stream",
     "text": [
      "такогго фрукта нету\n"
     ]
    }
   ],
   "source": [
    "arr_list = ['banana', 'apple', 'orannge']\n",
    "fruit = input('введите фрукт')\n",
    "\n",
    "if fruit == arr_list[0]:\n",
    "    print(arr_list[0])\n",
    "elif fruit == arr_list[1]:\n",
    "    print(arr_list[1])\n",
    "elif fruit == arr_list[2]:\n",
    "    print(arr_list[2])\n",
    "else:\n",
    "    print('такогго фрукта нету')"
   ]
  },
  {
   "cell_type": "code",
   "execution_count": 2,
   "metadata": {},
   "outputs": [
    {
     "name": "stdout",
     "output_type": "stream",
     "text": [
      "Калькулятор \n",
      "\n",
      "Корень из этого числа равен->1.0\n"
     ]
    }
   ],
   "source": [
    "import math as mt\n",
    "print('Калькулятор \\n')\n",
    "op = input('Введите операцию. Подсказка: + сложение, - вычитание, * умножение, / деление, ^ степень, ! факториал, sqrt корень')\n",
    "one = input('Введите первое число')\n",
    "one = int(one)\n",
    "if op == '^':\n",
    "    two = input('Введите степень, в которую возводите число')\n",
    "    two = int(two)\n",
    "elif op != '!' or op != 'sqrt':\n",
    "    two = input('Введите второе число')\n",
    "    two = int(two)\n",
    "if op == '+' :\n",
    "    result = one + two\n",
    "    result = str(result)\n",
    "    print('Сумма двух этих чисел равна-> ' + result)\n",
    "elif op == '-' :\n",
    "    result = one - two\n",
    "    result = str(result)\n",
    "    print('Разность двух этих чисел равна-> ' + result)\n",
    "elif op == '*':\n",
    "    result = one * two\n",
    "    result = str(result)\n",
    "    print('Произведение двух этих чисел равна-> ' + result)\n",
    "elif op == '/' :\n",
    "    if two == 0:\n",
    "        print('На ноль делить нельзя!')\n",
    "    else:\n",
    "        result = one / two\n",
    "        result = str(result)\n",
    "        print('Частное двух этих чисел равна-> ' + result)\n",
    "elif op == '^' :\n",
    "    result = one**two\n",
    "    result = str(result)\n",
    "    two = str(two)\n",
    "    print('Это число в степени ' + two + ' -> ' + result)\n",
    "elif op == '!' :\n",
    "    result = mt.factorial(one)\n",
    "    result = str(result)\n",
    "    print('Фактониал двух этих чисел равна->' + result)\n",
    "elif op == 'sqrt' :\n",
    "    result = mt.sqrt(one)\n",
    "    result = str(result)\n",
    "    print('Корень из этого числа равен->' + result)\n",
    "else:\n",
    "    print('Нет такой операции')"
   ]
  }
 ],
 "metadata": {
  "interpreter": {
   "hash": "085241b03c8467ac523dc199e9d66dc1a0e203c296f520d164e80b7368218161"
  },
  "kernelspec": {
   "display_name": "Python 3.9.4 64-bit",
   "language": "python",
   "name": "python3"
  },
  "language_info": {
   "codemirror_mode": {
    "name": "ipython",
    "version": 3
   },
   "file_extension": ".py",
   "mimetype": "text/x-python",
   "name": "python",
   "nbconvert_exporter": "python",
   "pygments_lexer": "ipython3",
   "version": "3.9.4"
  },
  "orig_nbformat": 4
 },
 "nbformat": 4,
 "nbformat_minor": 2
}
