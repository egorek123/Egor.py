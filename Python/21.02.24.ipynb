{
 "cells": [
  {
   "cell_type": "code",
   "execution_count": 9,
   "metadata": {},
   "outputs": [],
   "source": [
    "import numpy as np\n",
    "import tensorflow as tf\n",
    "from tensorflow.keras.datasets import fashion_mnist\n",
    "from tensorflow.keras.utils import to_categorical\n",
    "\n",
    "(X_train, y_train), (X_test, y_test) = fashion_mnist.load_data()\n",
    "\n",
    "y_train = to_categorical(y_train, num_classes=10)\n",
    "y_test = to_categorical(y_test, num_classes=10)\n",
    "\n",
    "X_train =  X_train.astype('float32') / 255.0\n",
    "X_test = X_test.astype('float32') / 255.0\n",
    "\n",
    "X_train = np.expand_dims(X_train, -1)\n",
    "X_test = np.expand_dims(X_test, -1)"
   ]
  },
  {
   "cell_type": "code",
   "execution_count": 14,
   "metadata": {},
   "outputs": [],
   "source": [
    "from tensorflow.keras.models import Sequential\n",
    "from tensorflow.keras.layers import Conv2D, MaxPooling2D, Dropout, Flatten, Dense\n",
    "\n",
    "model = Sequential()\n",
    "model.add(Conv2D(32, kernel_size=(3,3), activation='relu', input_shape=(28,28,1)))\n",
    "model.add(MaxPooling2D(pool_size=(2,2)))\n",
    "model.add(Dropout(0.25))\n",
    "model.add(Flatten())\n",
    "model.add(Dense(128, activation='relu'))\n",
    "model.add(Dropout(0.5))\n",
    "model.add(Dense(10, activation='softmax'))"
   ]
  },
  {
   "cell_type": "code",
   "execution_count": 15,
   "metadata": {},
   "outputs": [],
   "source": [
    "optimizer = 'adam'\n",
    "loss = 'categorical_crossentropy'\n",
    "metrics = ['accuracy']\n",
    "model.compile(optimizer=optimizer, loss=loss, metrics=metrics)"
   ]
  },
  {
   "cell_type": "code",
   "execution_count": 16,
   "metadata": {},
   "outputs": [
    {
     "name": "stdout",
     "output_type": "stream",
     "text": [
      "Epoch 1/10\n",
      "469/469 [==============================] - 59s 123ms/step - loss: 0.5613 - accuracy: 0.8016\n",
      "Epoch 2/10\n",
      "469/469 [==============================] - 57s 122ms/step - loss: 0.3680 - accuracy: 0.8693\n",
      "Epoch 3/10\n",
      "469/469 [==============================] - 55s 118ms/step - loss: 0.3270 - accuracy: 0.8829\n",
      "Epoch 4/10\n",
      "469/469 [==============================] - 59s 125ms/step - loss: 0.3004 - accuracy: 0.8918\n",
      "Epoch 5/10\n",
      "469/469 [==============================] - 56s 119ms/step - loss: 0.2829 - accuracy: 0.8979\n",
      "Epoch 6/10\n",
      "469/469 [==============================] - 55s 118ms/step - loss: 0.2713 - accuracy: 0.9014\n",
      "Epoch 7/10\n",
      "469/469 [==============================] - 54s 116ms/step - loss: 0.2594 - accuracy: 0.9055\n",
      "Epoch 8/10\n",
      "469/469 [==============================] - 56s 120ms/step - loss: 0.2460 - accuracy: 0.9089\n",
      "Epoch 9/10\n",
      "469/469 [==============================] - 55s 117ms/step - loss: 0.2410 - accuracy: 0.9104\n",
      "Epoch 10/10\n",
      "469/469 [==============================] - 55s 118ms/step - loss: 0.2317 - accuracy: 0.9143\n"
     ]
    }
   ],
   "source": [
    "epochs = 10\n",
    "batch_size = 128\n",
    "history = model.fit(X_train, y_train, batch_size=batch_size, epochs=epochs)"
   ]
  },
  {
   "cell_type": "code",
   "execution_count": 17,
   "metadata": {},
   "outputs": [
    {
     "name": "stdout",
     "output_type": "stream",
     "text": [
      "313/313 [==============================] - 4s 12ms/step - loss: 0.2395 - accuracy: 0.9143\n",
      "Nочность на тестовых данных:  0.9143000245094299\n"
     ]
    }
   ],
   "source": [
    "test_loss, test_accuracy = model.evaluate(X_test, y_test)\n",
    "print('Nочность на тестовых данных: ', test_accuracy)"
   ]
  },
  {
   "cell_type": "code",
   "execution_count": 18,
   "metadata": {},
   "outputs": [
    {
     "name": "stdout",
     "output_type": "stream",
     "text": [
      "313/313 [==============================] - 4s 12ms/step\n"
     ]
    }
   ],
   "source": [
    "pred = model.predict(X_test)"
   ]
  },
  {
   "cell_type": "code",
   "execution_count": 44,
   "metadata": {},
   "outputs": [
    {
     "data": {
      "text/plain": [
       "<matplotlib.image.AxesImage at 0x2345507ffd0>"
      ]
     },
     "execution_count": 44,
     "metadata": {},
     "output_type": "execute_result"
    },
    {
     "data": {
      "image/png": "[encoded data removed]",
      "text/plain": [
       "<Figure size 640x480 with 1 Axes>"
      ]
     },
     "metadata": {},
     "output_type": "display_data"
    }
   ],
   "source": [
    "import matplotlib.pyplot as plt\n",
    "num = 893\n",
    "plt.imshow(X_test[num])"
   ]
  },
  {
   "cell_type": "code",
   "execution_count": 45,
   "metadata": {},
   "outputs": [
    {
     "name": "stdout",
     "output_type": "stream",
     "text": [
      "Пальто\n",
      "Пуловер\n"
     ]
    }
   ],
   "source": [
    "import numpy as np\n",
    "class_names_ru = [\n",
    "    \"Футболка/топ\",\n",
    "    \"Брюки\",\n",
    "    \"Пуловер\",\n",
    "    \"Платье\",\n",
    "    \"Пальто\",\n",
    "    \"Сандали\",\n",
    "    \"Рубашка\",\n",
    "    \"Кроссовки\",\n",
    "    \"Сумка\",\n",
    "    \"Ботинки\"\n",
    "]\n",
    "class_index = np.argmax(pred[num])\n",
    "print(class_names_ru[class_index])\n",
    "class_y_test = np.argmax(y_test[num])\n",
    "print(class_names_ru[class_y_test])\n",
    "model.save(\"model.keras\")"
   ]
  }
 ],
 "metadata": {
  "interpreter": {
   "hash": "085241b03c8467ac523dc199e9d66dc1a0e203c296f520d164e80b7368218161"
  },
  "kernelspec": {
   "display_name": "Python 3.9.4 64-bit",
   "language": "python",
   "name": "python3"
  },
  "language_info": {
   "codemirror_mode": {
    "name": "ipython",
    "version": 3
   },
   "file_extension": ".py",
   "mimetype": "text/x-python",
   "name": "python",
   "nbconvert_exporter": "python",
   "pygments_lexer": "ipython3",
   "version": "3.9.4"
  },
  "orig_nbformat": 4
 },
 "nbformat": 4,
 "nbformat_minor": 2
}
