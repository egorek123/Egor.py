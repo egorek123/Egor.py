{
 "cells": [
  {
   "cell_type": "code",
   "execution_count": 17,
   "metadata": {},
   "outputs": [],
   "source": [
    "class Animal:\n",
    "    def voice(self):\n",
    "        print('Издает звук')\n",
    "\n",
    "class Cat(Animal):\n",
    "    def eat(self):\n",
    "        print('Кушает кошка')\n",
    "    def voice (self):\n",
    "        print('Издает звук кошка')\n",
    "  \n",
    "\n",
    "class Dog(Animal):\n",
    "    def eat(self):\n",
    "        print('Кушает собака')\n",
    "    def voice (self):\n",
    "        print('Издает звук собака')"
   ]
  },
  {
   "cell_type": "code",
   "execution_count": 18,
   "metadata": {},
   "outputs": [
    {
     "name": "stdout",
     "output_type": "stream",
     "text": [
      "Издает звук\n",
      "Кушает кошка\n",
      "Кушает собака\n",
      "Издает звук кошка\n",
      "Издает звук собака\n"
     ]
    }
   ],
   "source": [
    "animal = Animal()\n",
    "animal.voice()\n",
    "cat = Cat()\n",
    "dog = Dog()\n",
    "cat.eat()\n",
    "dog.eat()\n",
    "cat.voice()\n",
    "dog.voice()"
   ]
  },
  {
   "cell_type": "code",
   "execution_count": 19,
   "metadata": {},
   "outputs": [],
   "source": [
    "class Calculate:\n",
    "    \n",
    "    def __init__(self, num1, num2):\n",
    "        self.num1 = num1\n",
    "        self.num2 = num2\n",
    "\n",
    "    def sum(self):\n",
    "        return self.num1 + self.num2\n",
    "    def minus(self):\n",
    "        return self.num1 - self.num2\n",
    "    def multiplay(self):\n",
    "        return self.num1 * self.num2\n",
    "    def s_treg(self):\n",
    "        return self.num1 * self.num2 * 1/2"
   ]
  },
  {
   "cell_type": "code",
   "execution_count": 20,
   "metadata": {},
   "outputs": [
    {
     "name": "stdout",
     "output_type": "stream",
     "text": [
      "13\n",
      "-5\n",
      "36\n",
      "18.0\n"
     ]
    }
   ],
   "source": [
    "cal = Calculate(4, 9)\n",
    "print(cal.sum())\n",
    "print(cal.minus())\n",
    "print(cal.multiplay())\n",
    "print(cal.s_treg())"
   ]
  }
 ],
 "metadata": {
  "interpreter": {
   "hash": "085241b03c8467ac523dc199e9d66dc1a0e203c296f520d164e80b7368218161"
  },
  "kernelspec": {
   "display_name": "Python 3.9.4 64-bit",
   "language": "python",
   "name": "python3"
  },
  "language_info": {
   "codemirror_mode": {
    "name": "ipython",
    "version": 3
   },
   "file_extension": ".py",
   "mimetype": "text/x-python",
   "name": "python",
   "nbconvert_exporter": "python",
   "pygments_lexer": "ipython3",
   "version": "3.9.4"
  },
  "orig_nbformat": 4
 },
 "nbformat": 4,
 "nbformat_minor": 2
}
