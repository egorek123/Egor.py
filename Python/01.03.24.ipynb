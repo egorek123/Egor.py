{
 "cells": [
  {
   "cell_type": "code",
   "execution_count": 1,
   "metadata": {},
   "outputs": [],
   "source": [
    "import tkinter as tk\n",
    "root = tk.Tk()\n",
    "root.mainloop()"
   ]
  },
  {
   "cell_type": "code",
   "execution_count": 15,
   "metadata": {},
   "outputs": [
    {
     "name": "stderr",
     "output_type": "stream",
     "text": [
      "Exception in Tkinter callback\n",
      "Traceback (most recent call last):\n",
      "  File \"c:\\Users\\Kege\\AppData\\Local\\Programs\\Python\\Python39\\lib\\tkinter\\__init__.py\", line 1892, in __call__\n",
      "    return self.func(*args)\n",
      "TypeError: set() missing 1 required positional argument: 'last'\n",
      "Exception in Tkinter callback\n",
      "Traceback (most recent call last):\n",
      "  File \"c:\\Users\\Kege\\AppData\\Local\\Programs\\Python\\Python39\\lib\\tkinter\\__init__.py\", line 1892, in __call__\n",
      "    return self.func(*args)\n",
      "TypeError: set() missing 1 required positional argument: 'last'\n",
      "Exception in Tkinter callback\n",
      "Traceback (most recent call last):\n",
      "  File \"c:\\Users\\Kege\\AppData\\Local\\Programs\\Python\\Python39\\lib\\tkinter\\__init__.py\", line 1892, in __call__\n",
      "    return self.func(*args)\n",
      "TypeError: set() missing 1 required positional argument: 'last'\n",
      "Exception in Tkinter callback\n",
      "Traceback (most recent call last):\n",
      "  File \"c:\\Users\\Kege\\AppData\\Local\\Programs\\Python\\Python39\\lib\\tkinter\\__init__.py\", line 1892, in __call__\n",
      "    return self.func(*args)\n",
      "TypeError: set() missing 1 required positional argument: 'last'\n"
     ]
    }
   ],
   "source": [
    "from tkinter import *\n",
    "\n",
    "window = Tk()\n",
    "window.title(\"window\")\n",
    "label = Label(window, text=\"first element\")\n",
    "label.pack()\n",
    "entry = Entry(window, width=30)\n",
    "entry.pack()\n",
    "button = Button(window, text=\"send\")\n",
    "button.pack()\n",
    "arr = [\"option 1\", \"option 2\", \"option 3\"]\n",
    "listbox = Listbox(window)\n",
    "for value in arr:\n",
    "    listbox.insert(END, value)\n",
    "listbox.pack()\n",
    "check = BooleanVar()\n",
    "check_button = Checkbutton(window, text=\"I am accept\", variable=check)\n",
    "check_button.pack()\n",
    "text = Text(window, height=10)\n",
    "scroll = Scrollbar(window, command=text.yview)\n",
    "scroll.pack(side=RIGHT, fill=Y)\n",
    "text.config(yscrollcommand=Scrollbar.set)\n",
    "text.pack()\n",
    "\n",
    "window.mainloop()"
   ]
  },
  {
   "cell_type": "code",
   "execution_count": 24,
   "metadata": {},
   "outputs": [
    {
     "ename": "TclError",
     "evalue": "cannot use geometry manager pack inside . which already has slaves managed by grid",
     "output_type": "error",
     "traceback": [
      "\u001b[1;31m---------------------------------------------------------------------------\u001b[0m",
      "\u001b[1;31mTclError\u001b[0m                                  Traceback (most recent call last)",
      "Cell \u001b[1;32mIn[24], line 25\u001b[0m\n\u001b[0;32m     23\u001b[0m label3\u001b[38;5;241m.\u001b[39mgrid(row\u001b[38;5;241m=\u001b[39m\u001b[38;5;241m1\u001b[39m, column\u001b[38;5;241m=\u001b[39m\u001b[38;5;241m0\u001b[39m)\n\u001b[0;32m     24\u001b[0m label4\u001b[38;5;241m.\u001b[39mgrid(row\u001b[38;5;241m=\u001b[39m\u001b[38;5;241m1\u001b[39m, column\u001b[38;5;241m=\u001b[39m\u001b[38;5;241m0\u001b[39m)\n\u001b[1;32m---> 25\u001b[0m \u001b[43mdiv\u001b[49m\u001b[38;5;241;43m.\u001b[39;49m\u001b[43mpack\u001b[49m\u001b[43m(\u001b[49m\u001b[43m)\u001b[49m\n\u001b[0;32m     27\u001b[0m pole\u001b[38;5;241m.\u001b[39mmainloop()\n",
      "File \u001b[1;32mc:\\Users\\Kege\\AppData\\Local\\Programs\\Python\\Python39\\lib\\tkinter\\__init__.py:2396\u001b[0m, in \u001b[0;36mPack.pack_configure\u001b[1;34m(self, cnf, **kw)\u001b[0m\n\u001b[0;32m   <a href='file:///c%3A/Users/Kege/AppData/Local/Programs/Python/Python39/lib/tkinter/__init__.py?line=2379'>2380</a>\u001b[0m \u001b[39mdef\u001b[39;00m \u001b[39mpack_configure\u001b[39m(\u001b[39mself\u001b[39m, cnf\u001b[39m=\u001b[39m{}, \u001b[39m*\u001b[39m\u001b[39m*\u001b[39mkw):\n\u001b[0;32m   <a href='file:///c%3A/Users/Kege/AppData/Local/Programs/Python/Python39/lib/tkinter/__init__.py?line=2380'>2381</a>\u001b[0m \u001b[39m    \u001b[39m\u001b[39m\"\"\"Pack a widget in the parent widget. Use as options:\u001b[39;00m\n\u001b[0;32m   <a href='file:///c%3A/Users/Kege/AppData/Local/Programs/Python/Python39/lib/tkinter/__init__.py?line=2381'>2382</a>\u001b[0m \u001b[39m    after=widget - pack it after you have packed widget\u001b[39;00m\n\u001b[0;32m   <a href='file:///c%3A/Users/Kege/AppData/Local/Programs/Python/Python39/lib/tkinter/__init__.py?line=2382'>2383</a>\u001b[0m \u001b[39m    anchor=NSEW (or subset) - position widget according to\u001b[39;00m\n\u001b[1;32m   (...)\u001b[0m\n\u001b[0;32m   <a href='file:///c%3A/Users/Kege/AppData/Local/Programs/Python/Python39/lib/tkinter/__init__.py?line=2393'>2394</a>\u001b[0m \u001b[39m    side=TOP or BOTTOM or LEFT or RIGHT -  where to add this widget.\u001b[39;00m\n\u001b[0;32m   <a href='file:///c%3A/Users/Kege/AppData/Local/Programs/Python/Python39/lib/tkinter/__init__.py?line=2394'>2395</a>\u001b[0m \u001b[39m    \"\"\"\u001b[39;00m\n\u001b[1;32m-> <a href='file:///c%3A/Users/Kege/AppData/Local/Programs/Python/Python39/lib/tkinter/__init__.py?line=2395'>2396</a>\u001b[0m     \u001b[39mself\u001b[39;49m\u001b[39m.\u001b[39;49mtk\u001b[39m.\u001b[39;49mcall(\n\u001b[0;32m   <a href='file:///c%3A/Users/Kege/AppData/Local/Programs/Python/Python39/lib/tkinter/__init__.py?line=2396'>2397</a>\u001b[0m           (\u001b[39m'\u001b[39;49m\u001b[39mpack\u001b[39;49m\u001b[39m'\u001b[39;49m, \u001b[39m'\u001b[39;49m\u001b[39mconfigure\u001b[39;49m\u001b[39m'\u001b[39;49m, \u001b[39mself\u001b[39;49m\u001b[39m.\u001b[39;49m_w)\n\u001b[0;32m   <a href='file:///c%3A/Users/Kege/AppData/Local/Programs/Python/Python39/lib/tkinter/__init__.py?line=2397'>2398</a>\u001b[0m           \u001b[39m+\u001b[39;49m \u001b[39mself\u001b[39;49m\u001b[39m.\u001b[39;49m_options(cnf, kw))\n",
      "\u001b[1;31mTclError\u001b[0m: cannot use geometry manager pack inside . which already has slaves managed by grid"
     ]
    }
   ],
   "source": [
    "from tkinter import *\n",
    "\n",
    "pole = Tk()\n",
    "pole.title(\"Input created\")\n",
    "but1 = Button(pole, text=\"Button 1\")\n",
    "but2 = Button(pole, text=\"Button 2\")\n",
    "but3 = Button(pole, text=\"Button 3\")\n",
    "but4 = Button(pole, text=\"Button 4\")\n",
    "entr1 = Entry(pole)\n",
    "entr1.grid(row=0, column=1)\n",
    "but1.grid(row=0, column=0)\n",
    "but2.grid(row=1, column=1)\n",
    "but3.grid(row=2, column=2)\n",
    "but4.grid(row=3, column=3)\n",
    "\n",
    "div = Frame(pole)\n",
    "label1 = Label(div, text=\"Text 1\")\n",
    "label2 = Label(div, text=\"Text 2\")\n",
    "label3 = Label(div, text=\"Text 3\")\n",
    "label4 = Label(div, text=\"Text 4\")\n",
    "label1.grid(row=0, column=0)\n",
    "label2.grid(row=0, column=1)\n",
    "label3.grid(row=1, column=0)\n",
    "label4.grid(row=1, column=0)\n",
    "div.pack()\n",
    "\n",
    "pole.mainloop()"
   ]
  },
  {
   "cell_type": "code",
   "execution_count": 26,
   "metadata": {},
   "outputs": [],
   "source": [
    "from tkinter import *\n",
    "\n",
    "pole = Tk()\n",
    "pole.title(\"Input created\")\n",
    "\n",
    "div = Frame(pole)\n",
    "label1 = Label(div, text=\"Text 1\")\n",
    "label2 = Label(div, text=\"Text 2\")\n",
    "label3 = Label(div, text=\"Text 3\")\n",
    "label4 = Label(div, text=\"Text 4\")\n",
    "label1.grid(row=0, column=0)\n",
    "label2.grid(row=0, column=1)\n",
    "label3.grid(row=1, column=0)\n",
    "label4.grid(row=1, column=0)\n",
    "div.pack()\n",
    "\n",
    "pole.mainloop()"
   ]
  },
  {
   "cell_type": "code",
   "execution_count": 34,
   "metadata": {},
   "outputs": [
    {
     "name": "stdout",
     "output_type": "stream",
     "text": [
      "['sjjsjsjsjsdnjsjsjjs', 'cdjijdnjdjhdjhjhefhjefhubhifediibsibubisb', 'msmsnmananhdaauhidubvi bhbhbcsabpoyphcxuuhduhuhsdhudhuchuhudgu', 'msmsnmananhdaauhidubvi wdohi000000000000000000000000000000000000ao;hasduonadsnoasdfdunhdsuhcpfin[ipjhmdszohhuch9upm9hcshphcs,m,pzxicxiimscunmchusdcdhdin[ijnasxinsxnsjnjncd']\n"
     ]
    }
   ],
   "source": [
    "from tkinter import *\n",
    "\n",
    "arr= []\n",
    "\n",
    "def get_name():\n",
    "    name = input_user.get()\n",
    "    arr.append(name)\n",
    "    get_user.config(text=(\"Name:\", name))\n",
    "\n",
    "pole = Tk()\n",
    "name_user = Label(pole, text=\"Input name\")\n",
    "name_user.grid(row=0, column=1)\n",
    "input_user = Entry(pole)\n",
    "input_user.grid(row=0, column=1)\n",
    "submit = Button(pole, text=\"Submit\", command=get_name)\n",
    "submit.grid(row=1, column=0)\n",
    "get_user = Label(pole, text=\"Ypur name:\")\n",
    "get_user.grid(row=1, column=1)\n",
    "\n",
    "pole.mainloop()\n",
    "print(arr)\n"
   ]
  }
 ],
 "metadata": {
  "interpreter": {
   "hash": "085241b03c8467ac523dc199e9d66dc1a0e203c296f520d164e80b7368218161"
  },
  "kernelspec": {
   "display_name": "Python 3.9.4 64-bit",
   "language": "python",
   "name": "python3"
  },
  "language_info": {
   "codemirror_mode": {
    "name": "ipython",
    "version": 3
   },
   "file_extension": ".py",
   "mimetype": "text/x-python",
   "name": "python",
   "nbconvert_exporter": "python",
   "pygments_lexer": "ipython3",
   "version": "3.9.4"
  },
  "orig_nbformat": 4
 },
 "nbformat": 4,
 "nbformat_minor": 2
}
