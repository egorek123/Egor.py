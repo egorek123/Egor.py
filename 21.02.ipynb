{
 "cells": [
  {
   "cell_type": "code",
   "execution_count": 26,
   "metadata": {},
   "outputs": [
    {
     "name": "stdout",
     "output_type": "stream",
     "text": [
      "(60000, 28, 28)\n",
      "(60000,)\n"
     ]
    }
   ],
   "source": [
    "import numpy as np\n",
    "import tensorflow as tf\n",
    "from tensorflow.keras.datasets import fashion_mnist\n",
    "from tensorflow.keras.utils import to_categorical\n",
    "\n",
    "(x_train, y_train), (x_test, y_test) = fashion_mnist.load_data()\n",
    "\n",
    "print(x_train.shape)\n",
    "print(y_train.shape)\n",
    "\n",
    "y_train = to_categorical(y_train, num_classes=10)\n",
    "y_test = to_categorical(y_test, num_classes=10)\n",
    "\n",
    "x_train = x_train.astype('float32')/255.0\n",
    "x_test = x_test.astype('float32')/255.0\n",
    "\n",
    "x_train = np.expand_dims(x_train, -1)\n",
    "x_test = np.expand_dims(x_test, -1)\n"
   ]
  },
  {
   "cell_type": "code",
   "execution_count": 27,
   "metadata": {},
   "outputs": [],
   "source": [
    "from tensorflow.keras.models import Sequential\n",
    "from tensorflow.keras.layers import Conv2D, MaxPooling2D, Dropout, Flatten, Dense\n",
    "mod = Sequential()\n",
    "mod.add(Conv2D(32, kernel_size=(3,3),activation='relu',input_shape=(28,28,1)))\n",
    "mod.add(MaxPooling2D(pool_size=(2,2)))\n",
    "mod.add(Dropout(0.25))\n",
    "mod.add(Flatten())\n",
    "mod.add(Dense(128,activation='relu'))\n",
    "mod.add(Dropout(0.5))\n",
    "mod.add(Dense(10,activation='softmax'))\n",
    "\n",
    "op = 'adam'\n",
    "loss = 'categorical_crossentropy'\n",
    "met = ['accuracy']\n",
    "mod.compile(optimizer=op,loss=loss,metrics=met)"
   ]
  },
  {
   "cell_type": "code",
   "execution_count": 28,
   "metadata": {},
   "outputs": [
    {
     "name": "stdout",
     "output_type": "stream",
     "text": [
      "Epoch 1/10\n",
      "469/469 [==============================] - 61s 125ms/step - loss: 0.5893 - accuracy: 0.7928\n",
      "Epoch 2/10\n",
      "469/469 [==============================] - 58s 124ms/step - loss: 0.3886 - accuracy: 0.8641\n",
      "Epoch 3/10\n",
      "469/469 [==============================] - 57s 121ms/step - loss: 0.3422 - accuracy: 0.8791\n",
      "Epoch 4/10\n",
      "469/469 [==============================] - 58s 124ms/step - loss: 0.3159 - accuracy: 0.8873\n",
      "Epoch 5/10\n",
      "469/469 [==============================] - 58s 123ms/step - loss: 0.2971 - accuracy: 0.8925\n",
      "Epoch 6/10\n",
      "469/469 [==============================] - 60s 128ms/step - loss: 0.2839 - accuracy: 0.8970\n",
      "Epoch 7/10\n",
      "469/469 [==============================] - 57s 122ms/step - loss: 0.2726 - accuracy: 0.9006\n",
      "Epoch 8/10\n",
      "469/469 [==============================] - 56s 119ms/step - loss: 0.2592 - accuracy: 0.9057\n",
      "Epoch 9/10\n",
      "469/469 [==============================] - 56s 119ms/step - loss: 0.2517 - accuracy: 0.9073\n",
      "Epoch 10/10\n",
      "469/469 [==============================] - 56s 119ms/step - loss: 0.2464 - accuracy: 0.9089\n"
     ]
    }
   ],
   "source": [
    "ep = 10\n",
    "bat = 128\n",
    "his = mod.fit(x_train,y_train,batch_size=bat,epochs=ep)"
   ]
  },
  {
   "cell_type": "code",
   "execution_count": 31,
   "metadata": {},
   "outputs": [
    {
     "name": "stdout",
     "output_type": "stream",
     "text": [
      "313/313 [==============================] - 4s 12ms/step - loss: 0.2443 - accuracy: 0.9123\n",
      "0.9122999906539917\n",
      "313/313 [==============================] - 4s 12ms/step\n"
     ]
    }
   ],
   "source": [
    "test_loss, test_acc = mod.evaluate(x_test,y_test)\n",
    "print(test_acc)\n",
    "\n",
    "\n",
    "pred = mod.predict(x_test)"
   ]
  },
  {
   "cell_type": "code",
   "execution_count": 36,
   "metadata": {},
   "outputs": [
    {
     "data": {
      "text/plain": [
       "<matplotlib.image.AxesImage at 0x24cb7cdec10>"
      ]
     },
     "execution_count": 36,
     "metadata": {},
     "output_type": "execute_result"
    },
    {
     "data": {
      "image/png": "[encoded data removed]",
      "text/plain": [
       "<Figure size 640x480 with 1 Axes>"
      ]
     },
     "metadata": {},
     "output_type": "display_data"
    }
   ],
   "source": [
    "import matplotlib.pyplot as plt\n",
    "plt.imshow(x_test[9999])"
   ]
  },
  {
   "cell_type": "code",
   "execution_count": 50,
   "metadata": {},
   "outputs": [
    {
     "name": "stdout",
     "output_type": "stream",
     "text": [
      "Пальто\n",
      "Пуловер\n"
     ]
    }
   ],
   "source": [
    "import numpy as np\n",
    "cl = ['Футболка','Брюки','Пуловер','Платье','Пальто','Сандали','Рубашка','Кроссовки','Сумка','Ботинки']\n",
    "n = 893\n",
    "cli = np.argmax(pred[n])\n",
    "print(cl[cli])\n",
    "cyt = np.argmax(y_test[n])\n",
    "print(cl[cyt])"
   ]
  }
 ],
 "metadata": {
  "interpreter": {
   "hash": "05346d6bbe2e88a51f4b7e0dbd556963f2c3841cdc27cffc9e7c532b66f0a4b1"
  },
  "kernelspec": {
   "display_name": "Python 3.9.4 64-bit",
   "language": "python",
   "name": "python3"
  },
  "language_info": {
   "codemirror_mode": {
    "name": "ipython",
    "version": 3
   },
   "file_extension": ".py",
   "mimetype": "text/x-python",
   "name": "python",
   "nbconvert_exporter": "python",
   "pygments_lexer": "ipython3",
   "version": "3.9.4"
  },
  "orig_nbformat": 4
 },
 "nbformat": 4,
 "nbformat_minor": 2
}
