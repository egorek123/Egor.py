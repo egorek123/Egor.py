{
 "cells": [
  {
   "cell_type": "code",
   "execution_count": 14,
   "metadata": {},
   "outputs": [
    {
     "data": {
      "text/html": [
       "<div>\n",
       "<style scoped>\n",
       "    .dataframe tbody tr th:only-of-type {\n",
       "        vertical-align: middle;\n",
       "    }\n",
       "\n",
       "    .dataframe tbody tr th {\n",
       "        vertical-align: top;\n",
       "    }\n",
       "\n",
       "    .dataframe thead th {\n",
       "        text-align: right;\n",
       "    }\n",
       "</style>\n",
       "<table border=\"1\" class=\"dataframe\">\n",
       "  <thead>\n",
       "    <tr style=\"text-align: right;\">\n",
       "      <th></th>\n",
       "      <th>Age</th>\n",
       "      <th>Income</th>\n",
       "      <th>Education</th>\n",
       "      <th>Marital Status</th>\n",
       "    </tr>\n",
       "  </thead>\n",
       "  <tbody>\n",
       "    <tr>\n",
       "      <th>0</th>\n",
       "      <td>34.0</td>\n",
       "      <td>50000</td>\n",
       "      <td>Bachelor's degree</td>\n",
       "      <td>Single</td>\n",
       "    </tr>\n",
       "    <tr>\n",
       "      <th>1</th>\n",
       "      <td>30.0</td>\n",
       "      <td>60000</td>\n",
       "      <td>High School</td>\n",
       "      <td>Married</td>\n",
       "    </tr>\n",
       "    <tr>\n",
       "      <th>2</th>\n",
       "      <td>32.0</td>\n",
       "      <td>45000</td>\n",
       "      <td>Master's degree</td>\n",
       "      <td>Divorced</td>\n",
       "    </tr>\n",
       "    <tr>\n",
       "      <th>3</th>\n",
       "      <td>32.0</td>\n",
       "      <td>70000</td>\n",
       "      <td>Doctorate</td>\n",
       "      <td>Married</td>\n",
       "    </tr>\n",
       "  </tbody>\n",
       "</table>\n",
       "</div>"
      ],
      "text/plain": [
       "    Age  Income          Education Marital Status\n",
       "0  34.0   50000  Bachelor's degree         Single\n",
       "1  30.0   60000        High School        Married\n",
       "2  32.0   45000    Master's degree       Divorced\n",
       "3  32.0   70000          Doctorate        Married"
      ]
     },
     "execution_count": 14,
     "metadata": {},
     "output_type": "execute_result"
    }
   ],
   "source": [
    "import pandas as pd\n",
    "d =  pd.read_csv('data.csv')\n",
    "my = d\n",
    "my.fillna(my['Age'].mean(),inplace=True)\n",
    "my.head()"
   ]
  },
  {
   "cell_type": "code",
   "execution_count": 24,
   "metadata": {},
   "outputs": [
    {
     "name": "stdout",
     "output_type": "stream",
     "text": [
      "               Fruit\n",
      "0              Арбуз\n",
      "1             Яблоко\n",
      "2              Банан\n",
      "3             Яблоко\n",
      "4             Ананас\n",
      "5  Сгнивший мандарин\n",
      "6               Дыня\n",
      "7              Вишня\n",
      "Яблоко\n"
     ]
    }
   ],
   "source": [
    "sl = {'Fruit':['Арбуз','Яблоко','Банан','Яблоко','Ананас','Сгнивший мандарин','Дыня','Вишня']}\n",
    "qq = pd.DataFrame(sl)\n",
    "print(qq)\n",
    "print(qq['Fruit'].mode()[0])"
   ]
  },
  {
   "cell_type": "code",
   "execution_count": 25,
   "metadata": {},
   "outputs": [
    {
     "data": {
      "text/html": [
       "<div>\n",
       "<style scoped>\n",
       "    .dataframe tbody tr th:only-of-type {\n",
       "        vertical-align: middle;\n",
       "    }\n",
       "\n",
       "    .dataframe tbody tr th {\n",
       "        vertical-align: top;\n",
       "    }\n",
       "\n",
       "    .dataframe thead th {\n",
       "        text-align: right;\n",
       "    }\n",
       "</style>\n",
       "<table border=\"1\" class=\"dataframe\">\n",
       "  <thead>\n",
       "    <tr style=\"text-align: right;\">\n",
       "      <th></th>\n",
       "      <th>Fruit_Ананас</th>\n",
       "      <th>Fruit_Арбуз</th>\n",
       "      <th>Fruit_Банан</th>\n",
       "      <th>Fruit_Вишня</th>\n",
       "      <th>Fruit_Дыня</th>\n",
       "      <th>Fruit_Сгнивший мандарин</th>\n",
       "      <th>Fruit_Яблоко</th>\n",
       "    </tr>\n",
       "  </thead>\n",
       "  <tbody>\n",
       "    <tr>\n",
       "      <th>0</th>\n",
       "      <td>False</td>\n",
       "      <td>True</td>\n",
       "      <td>False</td>\n",
       "      <td>False</td>\n",
       "      <td>False</td>\n",
       "      <td>False</td>\n",
       "      <td>False</td>\n",
       "    </tr>\n",
       "    <tr>\n",
       "      <th>1</th>\n",
       "      <td>False</td>\n",
       "      <td>False</td>\n",
       "      <td>False</td>\n",
       "      <td>False</td>\n",
       "      <td>False</td>\n",
       "      <td>False</td>\n",
       "      <td>True</td>\n",
       "    </tr>\n",
       "    <tr>\n",
       "      <th>2</th>\n",
       "      <td>False</td>\n",
       "      <td>False</td>\n",
       "      <td>True</td>\n",
       "      <td>False</td>\n",
       "      <td>False</td>\n",
       "      <td>False</td>\n",
       "      <td>False</td>\n",
       "    </tr>\n",
       "    <tr>\n",
       "      <th>3</th>\n",
       "      <td>False</td>\n",
       "      <td>False</td>\n",
       "      <td>False</td>\n",
       "      <td>False</td>\n",
       "      <td>False</td>\n",
       "      <td>False</td>\n",
       "      <td>True</td>\n",
       "    </tr>\n",
       "    <tr>\n",
       "      <th>4</th>\n",
       "      <td>True</td>\n",
       "      <td>False</td>\n",
       "      <td>False</td>\n",
       "      <td>False</td>\n",
       "      <td>False</td>\n",
       "      <td>False</td>\n",
       "      <td>False</td>\n",
       "    </tr>\n",
       "  </tbody>\n",
       "</table>\n",
       "</div>"
      ],
      "text/plain": [
       "   Fruit_Ананас  Fruit_Арбуз  Fruit_Банан  Fruit_Вишня  Fruit_Дыня  \\\n",
       "0         False         True        False        False       False   \n",
       "1         False        False        False        False       False   \n",
       "2         False        False         True        False       False   \n",
       "3         False        False        False        False       False   \n",
       "4          True        False        False        False       False   \n",
       "\n",
       "   Fruit_Сгнивший мандарин  Fruit_Яблоко  \n",
       "0                    False         False  \n",
       "1                    False          True  \n",
       "2                    False         False  \n",
       "3                    False          True  \n",
       "4                    False         False  "
      ]
     },
     "execution_count": 25,
     "metadata": {},
     "output_type": "execute_result"
    }
   ],
   "source": [
    "one = qq\n",
    "one = pd.get_dummies(qq,columns=['Fruit'])\n",
    "one.head()"
   ]
  },
  {
   "cell_type": "code",
   "execution_count": 30,
   "metadata": {},
   "outputs": [
    {
     "name": "stdout",
     "output_type": "stream",
     "text": [
      "   Fruits_Ананас  Fruits_Арбуз  Fruits_Банан  Fruits_Вишня  Fruits_Дыня  \\\n",
      "0            0.0           1.0           0.0           0.0          0.0   \n",
      "1            0.0           0.0           0.0           0.0          0.0   \n",
      "2            0.0           0.0           1.0           0.0          0.0   \n",
      "3            0.0           0.0           0.0           0.0          0.0   \n",
      "4            1.0           0.0           0.0           0.0          0.0   \n",
      "5            0.0           0.0           0.0           0.0          0.0   \n",
      "6            0.0           0.0           0.0           0.0          1.0   \n",
      "7            0.0           0.0           0.0           1.0          0.0   \n",
      "\n",
      "   Fruits_Сгнивший мандарин  Fruits_Яблоко  \n",
      "0                       0.0            0.0  \n",
      "1                       0.0            1.0  \n",
      "2                       0.0            0.0  \n",
      "3                       0.0            1.0  \n",
      "4                       0.0            0.0  \n",
      "5                       1.0            0.0  \n",
      "6                       0.0            0.0  \n",
      "7                       0.0            0.0  \n"
     ]
    },
    {
     "name": "stderr",
     "output_type": "stream",
     "text": [
      "c:\\Users\\kege\\AppData\\Local\\Programs\\Python\\Python39\\lib\\site-packages\\sklearn\\utils\\deprecation.py:87: FutureWarning: Function get_feature_names is deprecated; get_feature_names is deprecated in 1.0 and will be removed in 1.2. Please use get_feature_names_out instead.\n",
      "  warnings.warn(msg, category=FutureWarning)\n"
     ]
    }
   ],
   "source": [
    "import pandas as pd\n",
    "from sklearn.preprocessing import OneHotEncoder\n",
    "en = OneHotEncoder(categories='auto',sparse=False)\n",
    "en.fit(qq[['Fruit']])\n",
    "res = pd.DataFrame(en.transform(qq[['Fruit']]),columns=en.get_feature_names(['Fruits']))\n",
    "\n",
    "#print(en.transform(qq[['Fruit']]))\n",
    "#print(en.get_feature_names(['Fruits']))\n",
    "print(res)"
   ]
  }
 ],
 "metadata": {
  "interpreter": {
   "hash": "05346d6bbe2e88a51f4b7e0dbd556963f2c3841cdc27cffc9e7c532b66f0a4b1"
  },
  "kernelspec": {
   "display_name": "Python 3.9.4 64-bit",
   "language": "python",
   "name": "python3"
  },
  "language_info": {
   "codemirror_mode": {
    "name": "ipython",
    "version": 3
   },
   "file_extension": ".py",
   "mimetype": "text/x-python",
   "name": "python",
   "nbconvert_exporter": "python",
   "pygments_lexer": "ipython3",
   "version": "3.9.4"
  },
  "orig_nbformat": 4
 },
 "nbformat": 4,
 "nbformat_minor": 2
}
