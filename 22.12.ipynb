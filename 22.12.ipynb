{
 "cells": [
  {
   "cell_type": "code",
   "execution_count": 2,
   "metadata": {},
   "outputs": [],
   "source": [
    "import sqlite3\n",
    "db = sqlite3.connect('users.db')\n",
    "cur = db.cursor()"
   ]
  },
  {
   "cell_type": "code",
   "execution_count": 5,
   "metadata": {},
   "outputs": [],
   "source": [
    "cur.execute('CREATE TABLE IF NOT EXISTS users (id_user INTEGER NOT NULL PRIMARY KEY, e_mail TEXT NOT NULL, password TEXT NOT NULL);')\n",
    "db.commit()"
   ]
  },
  {
   "cell_type": "code",
   "execution_count": 12,
   "metadata": {},
   "outputs": [],
   "source": [
    "cur.execute(\"INSERT INTO users (id_user, e_mail, password) VALUES (1,'user_on1@gmail.ru','pass23123')\")\n",
    "db.commit()"
   ]
  },
  {
   "cell_type": "code",
   "execution_count": 15,
   "metadata": {},
   "outputs": [],
   "source": [
    "user_data = (2,'user_on1@gmail.ru','pass23123')\n",
    "cur.execute(\"INSERT INTO users (id_user, e_mail, password) VALUES (?,?,?)\",user_data)\n",
    "db.commit()"
   ]
  },
  {
   "cell_type": "code",
   "execution_count": null,
   "metadata": {},
   "outputs": [],
   "source": [
    "cur.execute(\"UPDATE users SET e_mail = ?,password = ? WHERE id_user = 10\",(\"228loh@gmail.ru\",\"lohlohloh\"))\n",
    "db.commit()"
   ]
  },
  {
   "cell_type": "code",
   "execution_count": 20,
   "metadata": {},
   "outputs": [
    {
     "name": "stdout",
     "output_type": "stream",
     "text": [
      "('228lox@gmail.ru', 'loxloxlox')\n"
     ]
    }
   ],
   "source": [
    "cur.execute(\"SELECT e_mail, password FROM users WHERE id_user = 10\")\n",
    "print(cur.fetchone())"
   ]
  },
  {
   "cell_type": "code",
   "execution_count": 3,
   "metadata": {},
   "outputs": [],
   "source": [
    "cur.execute(\"DELETE FROM users WHERE id_user = 1\")\n",
    "db.commit()"
   ]
  },
  {
   "cell_type": "code",
   "execution_count": 4,
   "metadata": {},
   "outputs": [],
   "source": [
    "def create_user():\n",
    "    mail = input('ВВедите адрес электронной почты пж')\n",
    "    password = input('Ведите наинадёжнейший пароль из всех наинадёжных паролей пж')\n",
    "    last_id = cur.execute(\"SELECT MAX (id_user) FROM users\").fetchone()\n",
    "    if last_id[0] == None:\n",
    "        id = 1\n",
    "    else:\n",
    "        id = last_id[0] + 1\n",
    "    cur.execute(f'INSERT INTO users VALUES ({id},\"{mail}\",\"{password}\")')\n",
    "    db.commit()\n",
    "create_user()"
   ]
  }
 ],
 "metadata": {
  "interpreter": {
   "hash": "35b501b2212fe3ced0c8030211735451216ff92b500c01880fed316f978ea7ef"
  },
  "kernelspec": {
   "display_name": "Python 3.8.6 64-bit",
   "language": "python",
   "name": "python3"
  },
  "language_info": {
   "codemirror_mode": {
    "name": "ipython",
    "version": 3
   },
   "file_extension": ".py",
   "mimetype": "text/x-python",
   "name": "python",
   "nbconvert_exporter": "python",
   "pygments_lexer": "ipython3",
   "version": "3.8.6"
  },
  "orig_nbformat": 4
 },
 "nbformat": 4,
 "nbformat_minor": 2
}
