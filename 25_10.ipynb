{
 "cells": [
  {
   "cell_type": "code",
   "execution_count": 5,
   "metadata": {},
   "outputs": [
    {
     "ename": "SyntaxError",
     "evalue": "invalid syntax (1428993053.py, line 4)",
     "output_type": "error",
     "traceback": [
      "\u001b[1;36m  Cell \u001b[1;32mIn[5], line 4\u001b[1;36m\u001b[0m\n\u001b[1;33m    while temp_char < len(str_string)\u001b[0m\n\u001b[1;37m                                     ^\u001b[0m\n\u001b[1;31mSyntaxError\u001b[0m\u001b[1;31m:\u001b[0m invalid syntax\n"
     ]
    }
   ],
   "source": [
    "str_string = \"HouseMy\"\n",
    "print(type(str_string))\n",
    "temp_char = 0\n",
    "while temp_char < len(str_string):\n",
    "   print(str_string[temp_char])\n",
    "   temp_char+=1"
   ]
  },
  {
   "cell_type": "code",
   "execution_count": 10,
   "metadata": {},
   "outputs": [
    {
     "name": "stdout",
     "output_type": "stream",
     "text": [
      "10\n",
      "20\n",
      "30\n",
      "40\n",
      "50\n",
      "60\n",
      "70\n",
      "80\n"
     ]
    }
   ],
   "source": [
    "c = [1,2,3,4,5,6,7,8,9,10]\n",
    "n = 10\n",
    "for i in c:\n",
    "    if(i == 9):\n",
    "        break\n",
    "    d = i * n\n",
    "    print(d)\n"
   ]
  },
  {
   "cell_type": "code",
   "execution_count": 7,
   "metadata": {},
   "outputs": [
    {
     "name": "stdout",
     "output_type": "stream",
     "text": [
      "1\n",
      "2\n",
      "3\n",
      "4\n",
      "5\n",
      "6\n",
      "7\n"
     ]
    }
   ],
   "source": [
    "number = 1\n",
    "\n",
    "while number <=10:\n",
    "    print(number)\n",
    "    if(number == 7):\n",
    "        break\n",
    "    number += 1"
   ]
  },
  {
   "cell_type": "code",
   "execution_count": 12,
   "metadata": {},
   "outputs": [
    {
     "name": "stdout",
     "output_type": "stream",
     "text": [
      "верно\n"
     ]
    }
   ],
   "source": [
    "password = input(\"Введите пароль\")\n",
    "value_password = \"1357\"\n",
    "\n",
    "while True:\n",
    "    if(password == value_password):\n",
    "        print(\"верно\")\n",
    "        break\n",
    "    else:\n",
    "        print(\"неверно\")\n",
    "        break"
   ]
  },
  {
   "cell_type": "code",
   "execution_count": 16,
   "metadata": {},
   "outputs": [
    {
     "name": "stdout",
     "output_type": "stream",
     "text": [
      "sd\n",
      "\n",
      "\n",
      "\n",
      "nm\n",
      "\n",
      "\n",
      "\n",
      "gh\n",
      "\n",
      "\n",
      "\n"
     ]
    }
   ],
   "source": [
    "dop = ((\"sd\",\"we\",\"u\"),\n",
    "(\"nm\",\"st\",\"p\"),\n",
    "(\"gh\",\"po\",\"itu\"))\n",
    "for i in range(0,len(dop)):\n",
    "    print(dop[i][0])\n",
    "    for j in range(0,len(dop)):\n",
    "        print()"
   ]
  },
  {
   "cell_type": "code",
   "execution_count": 21,
   "metadata": {},
   "outputs": [
    {
     "name": "stdout",
     "output_type": "stream",
     "text": [
      "    1     2     3     4     5     6     7     8     9 \n",
      "    2     4     6     8    10    12    14    16    18 \n",
      "    3     6     9    12    15    18    21    24    27 \n",
      "    4     8    12    16    20    24    28    32    36 \n",
      "    5    10    15    20    25    30    35    40    45 \n",
      "    6    12    18    24    30    36    42    48    54 \n",
      "    7    14    21    28    35    42    49    56    63 \n",
      "    8    16    24    32    40    48    56    64    72 \n",
      "    9    18    27    36    45    54    63    72    81 \n"
     ]
    }
   ],
   "source": [
    "for i in range(1,10):\n",
    "    for j in range(1,10):\n",
    "        print(\"%5d\"%(i*j),end=' ')\n",
    "    print()"
   ]
  }
 ],
 "metadata": {
  "interpreter": {
   "hash": "05346d6bbe2e88a51f4b7e0dbd556963f2c3841cdc27cffc9e7c532b66f0a4b1"
  },
  "kernelspec": {
   "display_name": "Python 3.9.4 64-bit",
   "language": "python",
   "name": "python3"
  },
  "language_info": {
   "codemirror_mode": {
    "name": "ipython",
    "version": 3
   },
   "file_extension": ".py",
   "mimetype": "text/x-python",
   "name": "python",
   "nbconvert_exporter": "python",
   "pygments_lexer": "ipython3",
   "version": "3.9.4"
  },
  "orig_nbformat": 4
 },
 "nbformat": 4,
 "nbformat_minor": 2
}
