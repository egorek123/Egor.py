{
 "cells": [
  {
   "cell_type": "code",
   "execution_count": 8,
   "metadata": {},
   "outputs": [],
   "source": [
    "import cv2\n",
    "\n",
    "mp4 = cv2.VideoCapture(0)\n",
    "while(mp4.isOpened()):\n",
    "    ret,fr = mp4.read()\n",
    "    if ret == True:\n",
    "        cv2.imshow('frame',fr)\n",
    "        if cv2.waitKey(25) & 0xFF == ord('q'):\n",
    "            break\n",
    "    else:\n",
    "        break\n",
    "mp4.release()\n",
    "cv2.destroyAllWindows()"
   ]
  },
  {
   "cell_type": "code",
   "execution_count": 19,
   "metadata": {},
   "outputs": [],
   "source": [
    "import cv2\n",
    "mp4 = cv2.VideoCapture('video.mp4')\n",
    "\n",
    "res = cv2.VideoWriter('resize.avi',cv2.VideoWriter_fourcc('M','J','P','G'),25,(640,480))\n",
    "while(mp4.isOpened()):\n",
    "    ret,fr = mp4.read()\n",
    "    if ret == True:\n",
    "        fr = cv2.resize(fr,(640,480))\n",
    "        cv2.imshow('frame',fr)\n",
    "        res.write(fr)\n",
    "        if cv2.waitKey(25) & 0xFF == ord('q'):\n",
    "            break\n",
    "    else:\n",
    "        break\n",
    "mp4.release()\n",
    "cv2.destroyAllWindows()"
   ]
  },
  {
   "cell_type": "code",
   "execution_count": 18,
   "metadata": {},
   "outputs": [],
   "source": [
    "import cv2\n",
    "\n",
    "mp4 = cv2.VideoCapture(0)\n",
    "while(mp4.isOpened()):\n",
    "    ret,fr = mp4.read()\n",
    "    if ret != True:\n",
    "        break\n",
    "\n",
    "    gf = cv2.cvtColor(fr,cv2.COLOR_BGR2GRAY)\n",
    "    rg = gf[250:700, 500:700]\n",
    "    #cv2.imshow('',fr)  \n",
    "    cv2.imshow('',rg)\n",
    "    if cv2.waitKey(25) & 0xFF == ord('q'):\n",
    "        break\n",
    "mp4.release()\n",
    "cv2.destroyAllWindows()"
   ]
  },
  {
   "cell_type": "code",
   "execution_count": 34,
   "metadata": {},
   "outputs": [],
   "source": [
    "import cv2\n",
    "import datetime\n",
    "mp4 = cv2.VideoCapture(0)\n",
    "while(mp4.isOpened()):\n",
    "    ret,fr = mp4.read()\n",
    "    if ret != True:\n",
    "        break\n",
    "\n",
    "    gf = cv2.cvtColor(fr,cv2.COLOR_BGR2GRAY)\n",
    "    rg = gf[250:400, 100:600]\n",
    "    rg = cv2.cvtColor(rg,cv2.COLOR_GRAY2BGR)\n",
    "    fr[250:400, 100:600] = rg\n",
    "    ct = datetime.datetime.now().strftime('%H:%M:%S')\n",
    "    cv2.putText(fr,'O MY GOD!!!',(50,50),cv2.FONT_HERSHEY_SCRIPT_SIMPLEX,1,(0,255,0),2,cv2.LINE_AA)\n",
    "    cv2.putText(fr,ct,(45,100),cv2.FONT_HERSHEY_SCRIPT_SIMPLEX,1,(0,255,0),2,cv2.LINE_AA)\n",
    "    cv2.rectangle(fr,(50,50),(200,200),(255,0,0),2)\n",
    "    cv2.circle(fr,(300,300),100,(255,0,0),2)\n",
    "    cv2.imshow('',fr)  \n",
    "    #cv2.imshow('',rg)\n",
    "    if cv2.waitKey(25) & 0xFF == ord('q'):\n",
    "        break\n",
    "mp4.release()\n",
    "cv2.destroyAllWindows()"
   ]
  },
  {
   "cell_type": "code",
   "execution_count": 40,
   "metadata": {},
   "outputs": [],
   "source": [
    "import cv2\n",
    "import datetime\n",
    "from math import *\n",
    "mp4 = cv2.VideoCapture(0)\n",
    "c = 0\n",
    "while(mp4.isOpened()):\n",
    "    ret,fr = mp4.read()\n",
    "    if ret != True:\n",
    "        break\n",
    "    c += 1\n",
    "    gf = cv2.cvtColor(fr,cv2.COLOR_BGR2GRAY)\n",
    "    rg = gf[250:400, 100:600]\n",
    "    rg = cv2.cvtColor(rg,cv2.COLOR_GRAY2BGR)\n",
    "    fr[250:400, 100:600] = rg\n",
    "    ct = datetime.datetime.now().strftime('%H:%M:%S')\n",
    "    cv2.putText(fr,'O MY GOD!!!',(50,50),cv2.FONT_HERSHEY_SCRIPT_SIMPLEX,1,(0,255,0),2,cv2.LINE_AA)\n",
    "    cv2.putText(fr,ct,(45,100),cv2.FONT_HERSHEY_SCRIPT_SIMPLEX,1,(0,255,0),2,cv2.LINE_AA)\n",
    "    cv2.rectangle(fr,(50+c%50,50+c%50),(200,200),(255,0,0),20)\n",
    "    cv2.circle(fr,(300,300),100,(255,0,0),2)\n",
    "    cv2.imshow('',fr)  \n",
    "    #cv2.imshow('',rg)\n",
    "    if cv2.waitKey(25) & 0xFF == ord('q'):\n",
    "        break\n",
    "mp4.release()\n",
    "cv2.destroyAllWindows()"
   ]
  }
 ],
 "metadata": {
  "interpreter": {
   "hash": "05346d6bbe2e88a51f4b7e0dbd556963f2c3841cdc27cffc9e7c532b66f0a4b1"
  },
  "kernelspec": {
   "display_name": "Python 3.9.4 64-bit",
   "language": "python",
   "name": "python3"
  },
  "language_info": {
   "codemirror_mode": {
    "name": "ipython",
    "version": 3
   },
   "file_extension": ".py",
   "mimetype": "text/x-python",
   "name": "python",
   "nbconvert_exporter": "python",
   "pygments_lexer": "ipython3",
   "version": "3.9.4"
  },
  "orig_nbformat": 4
 },
 "nbformat": 4,
 "nbformat_minor": 2
}
