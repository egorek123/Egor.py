{
 "cells": [
  {
   "cell_type": "code",
   "execution_count": 54,
   "metadata": {},
   "outputs": [],
   "source": [
    "def f(o):\n",
    "    n1 = int(ne1.get())\n",
    "    n2 = int(ne2.get())\n",
    "    print(type(n1))\n",
    "    if o=='+':\n",
    "        res = n1+n2\n",
    "    elif o=='-':\n",
    "        res = n1-n2\n",
    "    elif o=='*':\n",
    "        res = n1*n2\n",
    "    elif o==':':\n",
    "        res = n1/n2\n",
    "    elif o=='√':\n",
    "        res = sqrt(n1)\n",
    "    elif o=='^':\n",
    "        res = n1**n2\n",
    "    nt3.config(text=('Результат: '+str(res)))\n",
    "\n",
    "     \n",
    "    "
   ]
  },
  {
   "cell_type": "code",
   "execution_count": 55,
   "metadata": {},
   "outputs": [
    {
     "name": "stdout",
     "output_type": "stream",
     "text": [
      "<class 'int'>\n"
     ]
    }
   ],
   "source": [
    "from tkinter import *\n",
    "from math import *\n",
    "cal = Tk()\n",
    "cal.title('Калькулятор')\n",
    "\n",
    "nt1 = Label(cal,text='Введите первое число',background='gray',)\n",
    "nt1.pack(anchor='w',fill=X)\n",
    "\n",
    "ne1 = Entry(cal,width=21)\n",
    "ne1.pack(anchor='w',fill=X)\n",
    "\n",
    "nt2 = Label(cal,text='Введите второе число',background='gray')\n",
    "nt2.pack(anchor='w',fill=X)\n",
    "\n",
    "ne2 = Entry(cal,width=21)\n",
    "ne2.pack(anchor='w',fill=X)\n",
    "\n",
    "bs = Button(cal,text='+',command=lambda: f('+'))\n",
    "bs.pack(anchor='w',fill=X)\n",
    "\n",
    "bm = Button(cal,text='-',command=lambda: f('-'))\n",
    "bm.pack(anchor='w',fill=X)\n",
    "\n",
    "by = Button(cal,text='*',command=lambda: f('*'))\n",
    "by.pack(anchor='w',fill=X)\n",
    "\n",
    "bd = Button(cal,text=':',command=lambda: f(':'))\n",
    "bd.pack(anchor='w',fill=X)\n",
    "\n",
    "bk = Button(cal,text='√',command=lambda: f('√'))\n",
    "bk.pack(anchor='w',fill=X)\n",
    "\n",
    "bst = Button(cal,text='^',command=lambda: f('^'))\n",
    "bst.pack(anchor='w',fill=X)\n",
    "\n",
    "nt3 = Label(cal,text='Результат:',background='gray')\n",
    "nt3.pack(anchor='w',fill=X)\n",
    "cal.mainloop()\n",
    "#√"
   ]
  },
  {
   "cell_type": "code",
   "execution_count": null,
   "metadata": {},
   "outputs": [],
   "source": [
    "from tkinter import *\n",
    "b = Tk()\n",
    "tp  "
   ]
  }
 ],
 "metadata": {
  "interpreter": {
   "hash": "05346d6bbe2e88a51f4b7e0dbd556963f2c3841cdc27cffc9e7c532b66f0a4b1"
  },
  "kernelspec": {
   "display_name": "Python 3.9.4 64-bit",
   "language": "python",
   "name": "python3"
  },
  "language_info": {
   "codemirror_mode": {
    "name": "ipython",
    "version": 3
   },
   "file_extension": ".py",
   "mimetype": "text/x-python",
   "name": "python",
   "nbconvert_exporter": "python",
   "pygments_lexer": "ipython3",
   "version": "3.9.4"
  },
  "orig_nbformat": 4
 },
 "nbformat": 4,
 "nbformat_minor": 2
}
